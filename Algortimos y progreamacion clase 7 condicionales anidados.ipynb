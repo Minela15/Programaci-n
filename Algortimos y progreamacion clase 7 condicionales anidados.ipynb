{
 "cells": [
  {
   "cell_type": "code",
   "execution_count": 1,
   "metadata": {},
   "outputs": [
    {
     "data": {
      "text/plain": [
       "2"
      ]
     },
     "execution_count": 1,
     "metadata": {},
     "output_type": "execute_result"
    }
   ],
   "source": [
    "1+1"
   ]
  },
  {
   "cell_type": "code",
   "execution_count": 6,
   "metadata": {},
   "outputs": [
    {
     "data": {
      "text/plain": [
       "int"
      ]
     },
     "execution_count": 6,
     "metadata": {},
     "output_type": "execute_result"
    }
   ],
   "source": [
    "type(18)"
   ]
  },
  {
   "cell_type": "code",
   "execution_count": 5,
   "metadata": {},
   "outputs": [
    {
     "data": {
      "text/plain": [
       "float"
      ]
     },
     "execution_count": 5,
     "metadata": {},
     "output_type": "execute_result"
    }
   ],
   "source": [
    "type(4.5)"
   ]
  },
  {
   "cell_type": "code",
   "execution_count": 8,
   "metadata": {},
   "outputs": [
    {
     "data": {
      "text/plain": [
       "str"
      ]
     },
     "execution_count": 8,
     "metadata": {},
     "output_type": "execute_result"
    }
   ],
   "source": [
    "type(\"Ingeniría de Sonido\")"
   ]
  },
  {
   "cell_type": "code",
   "execution_count": 9,
   "metadata": {},
   "outputs": [
    {
     "data": {
      "text/plain": [
       "False"
      ]
     },
     "execution_count": 9,
     "metadata": {},
     "output_type": "execute_result"
    }
   ],
   "source": [
    "edad =18\n",
    "promedio= 20\n",
    "edad==promedio "
   ]
  },
  {
   "cell_type": "code",
   "execution_count": 11,
   "metadata": {},
   "outputs": [
    {
     "data": {
      "text/plain": [
       "True"
      ]
     },
     "execution_count": 11,
     "metadata": {},
     "output_type": "execute_result"
    }
   ],
   "source": [
    "edad != 18\n",
    "promedio= 20\n",
    "edad==promedio \n",
    "\n",
    "!= (\"significa diferente\")"
   ]
  },
  {
   "cell_type": "code",
   "execution_count": 12,
   "metadata": {},
   "outputs": [
    {
     "data": {
      "text/plain": [
       "8"
      ]
     },
     "execution_count": 12,
     "metadata": {},
     "output_type": "execute_result"
    }
   ],
   "source": [
    "2**3\n",
    "(\"para exponentes\")"
   ]
  },
  {
   "cell_type": "code",
   "execution_count": 13,
   "metadata": {},
   "outputs": [
    {
     "data": {
      "text/plain": [
       "2.0"
      ]
     },
     "execution_count": 13,
     "metadata": {},
     "output_type": "execute_result"
    }
   ],
   "source": [
    "4/2\n",
    "\n",
    "(\"solo es divicion entera\")"
   ]
  },
  {
   "cell_type": "code",
   "execution_count": 14,
   "metadata": {},
   "outputs": [
    {
     "data": {
      "text/plain": [
       "2.5"
      ]
     },
     "execution_count": 14,
     "metadata": {},
     "output_type": "execute_result"
    }
   ],
   "source": [
    "5/2"
   ]
  },
  {
   "cell_type": "code",
   "execution_count": 15,
   "metadata": {},
   "outputs": [
    {
     "data": {
      "text/plain": [
       "1"
      ]
     },
     "execution_count": 15,
     "metadata": {},
     "output_type": "execute_result"
    }
   ],
   "source": [
    "5%2\n",
    "\n",
    "(\"modulo o reciduo: sirve para organizar expreciones \")\n"
   ]
  },
  {
   "cell_type": "code",
   "execution_count": 20,
   "metadata": {},
   "outputs": [
    {
     "data": {
      "text/plain": [
       "'July Vargas'"
      ]
     },
     "execution_count": 20,
     "metadata": {},
     "output_type": "execute_result"
    }
   ],
   "source": [
    "Nombre= \"July\"\n",
    "apellido= \" Vargas\"\n",
    "Nombre + apellido \n"
   ]
  },
  {
   "cell_type": "code",
   "execution_count": 23,
   "metadata": {},
   "outputs": [
    {
     "data": {
      "text/plain": [
       "'jajajajajajajaja'"
      ]
     },
     "execution_count": 23,
     "metadata": {},
     "output_type": "execute_result"
    }
   ],
   "source": [
    "\"ja\"*8"
   ]
  },
  {
   "cell_type": "code",
   "execution_count": 24,
   "metadata": {},
   "outputs": [
    {
     "name": "stdout",
     "output_type": "stream",
     "text": [
      "314.0\n"
     ]
    }
   ],
   "source": [
    "pi=3.14\n",
    "r=10\n",
    "area= pi*r**2\n",
    "print(area)"
   ]
  },
  {
   "cell_type": "code",
   "execution_count": 25,
   "metadata": {},
   "outputs": [
    {
     "data": {
      "text/plain": [
       "37"
      ]
     },
     "execution_count": 25,
     "metadata": {},
     "output_type": "execute_result"
    }
   ],
   "source": [
    "# Palabras qeu núnca puedo usar como variables\n",
    "edad= 18\n",
    "1+2*(edad)"
   ]
  },
  {
   "cell_type": "markdown",
   "metadata": {},
   "source": [
    "28 de 08\n",
    "condicionales"
   ]
  },
  {
   "cell_type": "code",
   "execution_count": 6,
   "metadata": {},
   "outputs": [
    {
     "name": "stdout",
     "output_type": "stream",
     "text": [
      "g1!.y&-/\n"
     ]
    }
   ],
   "source": [
    "import random\n",
    "random.seed(1234)\n",
    "\n",
    "chars = '!'\"#$%&()*+,-./0123456789?@ABCDEFGHIJKLMNOPQRSTUWXYZabcdefghijklmnopqrstuvwxyz\"\n",
    "password = ''\n",
    "\n",
    "lengthPW = int(input('que longitud quieres para tu pw'))\n",
    "\n",
    "for _ in range(lengthPW):\n",
    "\n",
    "    password += random.choice(chars)\n",
    "\n",
    "\n",
    "\n",
    "print(password)"
   ]
  },
  {
   "cell_type": "code",
   "execution_count": null,
   "metadata": {},
   "outputs": [],
   "source": [
    "import math\n",
    "import random"
   ]
  },
  {
   "cell_type": "code",
   "execution_count": 10,
   "metadata": {},
   "outputs": [
    {
     "ename": "IndentationError",
     "evalue": "unexpected indent (1846662288.py, line 3)",
     "output_type": "error",
     "traceback": [
      "\u001b[1;36m  Cell \u001b[1;32mIn[10], line 3\u001b[1;36m\u001b[0m\n\u001b[1;33m    jugador= input(\" ¿Qué vas a usar? 'piedra','papel','tijeras' \").lower()\u001b[0m\n\u001b[1;37m    ^\u001b[0m\n\u001b[1;31mIndentationError\u001b[0m\u001b[1;31m:\u001b[0m unexpected indent\n"
     ]
    }
   ],
   "source": [
    "import random\n",
    "\n",
    "    \n",
    "def play(): \n",
    "    user= input(\" ¿Qué vas a usar? 'piedra','papel','tijeras' \").lower()\n",
    "    computer = random.choice (['piedra', 'papel', 'tijeras'])\n",
    "    \n",
    "    if user == computer:\n",
    "        return 'Es un Empate'\n",
    "    \n",
    "    if is_win(user, computer):\n",
    "        return '¡Ganaste!'\n",
    "    return '¡Perdiste!'\n",
    "\n",
    "def is_win(player, opponent):\n",
    "    if (player == 'piedra' and opponent == 'tijeras') or (player == 'tijeras' and opponent == 'papel') \\\n",
    "        or (player == 'papel' and opponent == 'tijeras'):\n",
    "        return True\n",
    "    \n",
    "\n",
    "print(play())"
   ]
  },
  {
   "cell_type": "code",
   "execution_count": 11,
   "metadata": {},
   "outputs": [
    {
     "name": "stdout",
     "output_type": "stream",
     "text": [
      "juego1:\n",
      "¡Perdiste!\n",
      "\n",
      "juego2:\n",
      "¡Perdiste!\n",
      "\n",
      "juego3:\n",
      "¡Perdiste!\n",
      "\n"
     ]
    }
   ],
   "source": [
    "for i in range (3):\n",
    "    print (f\"juego{i +1}:\")\n",
    "    resultado = play ()\n",
    "    print(resultado)\n",
    "    print() # separador entre juegos "
   ]
  },
  {
   "cell_type": "code",
   "execution_count": 12,
   "metadata": {},
   "outputs": [
    {
     "name": "stdout",
     "output_type": "stream",
     "text": [
      "e0!-w%,.TE#$#Sjh5-90\"mkF*rh*y-nw&It*MjTIF@gp#n+!Q4\n"
     ]
    }
   ],
   "source": [
    "import random\n",
    "random.seed(1234)\n",
    "\n",
    "chars = '!\"#$%&()*+,-./0123456789?@ABCDEFGHIJKLMNOPQRSTUVWXYZabcdefghijklmnopqrstuvwxyz'\n",
    "password = ''\n",
    "\n",
    "lengthPW = int(input('Que longitud quieres para tu pw'))\n",
    "\n",
    "for _ in range(lengthPW):\n",
    "    \n",
    "        password += random.choice(chars)\n",
    "print(password)\n"
   ]
  },
  {
   "cell_type": "code",
   "execution_count": 14,
   "metadata": {},
   "outputs": [
    {
     "name": "stdout",
     "output_type": "stream",
     "text": [
      "Contraseña Correcta\n"
     ]
    }
   ],
   "source": [
    "contraseña = \"Computadora\"\n",
    "contador = 0\n",
    "\n",
    "while True:\n",
    "    contraseña_input = input(\"Introduzca una Contraseña\")\n",
    "    contador+=1\n",
    "    \n",
    "    if contador > 3:\n",
    "        print(\"Haz sobrepasado los intentos\")\n",
    "    elif contraseña_input == \"Computadora\":\n",
    "        print(\"Contraseña Correcta\")\n",
    "        break\n",
    "    else:\n",
    "        print(\"Contraseña incorrecta , Introduzca una contraseña correcta\")"
   ]
  }
 ],
 "metadata": {
  "kernelspec": {
   "display_name": "Python 3",
   "language": "python",
   "name": "python3"
  },
  "language_info": {
   "codemirror_mode": {
    "name": "ipython",
    "version": 3
   },
   "file_extension": ".py",
   "mimetype": "text/x-python",
   "name": "python",
   "nbconvert_exporter": "python",
   "pygments_lexer": "ipython3",
   "version": "3.11.9"
  }
 },
 "nbformat": 4,
 "nbformat_minor": 2
}
