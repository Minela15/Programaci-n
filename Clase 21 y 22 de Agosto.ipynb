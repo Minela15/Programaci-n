{
 "cells": [
  {
   "cell_type": "code",
   "execution_count": 1,
   "metadata": {},
   "outputs": [
    {
     "data": {
      "text/plain": [
       "2"
      ]
     },
     "execution_count": 1,
     "metadata": {},
     "output_type": "execute_result"
    }
   ],
   "source": [
    "1+1"
   ]
  },
  {
   "cell_type": "code",
   "execution_count": 6,
   "metadata": {},
   "outputs": [
    {
     "data": {
      "text/plain": [
       "int"
      ]
     },
     "execution_count": 6,
     "metadata": {},
     "output_type": "execute_result"
    }
   ],
   "source": [
    "type(18)"
   ]
  },
  {
   "cell_type": "code",
   "execution_count": 5,
   "metadata": {},
   "outputs": [
    {
     "data": {
      "text/plain": [
       "float"
      ]
     },
     "execution_count": 5,
     "metadata": {},
     "output_type": "execute_result"
    }
   ],
   "source": [
    "type(4.5)"
   ]
  },
  {
   "cell_type": "code",
   "execution_count": 8,
   "metadata": {},
   "outputs": [
    {
     "data": {
      "text/plain": [
       "str"
      ]
     },
     "execution_count": 8,
     "metadata": {},
     "output_type": "execute_result"
    }
   ],
   "source": [
    "type(\"Ingeniría de Sonido\")"
   ]
  },
  {
   "cell_type": "code",
   "execution_count": 9,
   "metadata": {},
   "outputs": [
    {
     "data": {
      "text/plain": [
       "False"
      ]
     },
     "execution_count": 9,
     "metadata": {},
     "output_type": "execute_result"
    }
   ],
   "source": [
    "edad =18\n",
    "promedio= 20\n",
    "edad==promedio "
   ]
  },
  {
   "cell_type": "code",
   "execution_count": 11,
   "metadata": {},
   "outputs": [
    {
     "data": {
      "text/plain": [
       "True"
      ]
     },
     "execution_count": 11,
     "metadata": {},
     "output_type": "execute_result"
    }
   ],
   "source": [
    "edad != 18\n",
    "promedio= 20\n",
    "edad==promedio \n",
    "\n",
    "!= (\"significa diferente\")"
   ]
  },
  {
   "cell_type": "code",
   "execution_count": 12,
   "metadata": {},
   "outputs": [
    {
     "data": {
      "text/plain": [
       "8"
      ]
     },
     "execution_count": 12,
     "metadata": {},
     "output_type": "execute_result"
    }
   ],
   "source": [
    "2**3\n",
    "(\"para exponentes\")"
   ]
  },
  {
   "cell_type": "code",
   "execution_count": 13,
   "metadata": {},
   "outputs": [
    {
     "data": {
      "text/plain": [
       "2.0"
      ]
     },
     "execution_count": 13,
     "metadata": {},
     "output_type": "execute_result"
    }
   ],
   "source": [
    "4/2\n",
    "\n",
    "(\"solo es divicion entera\")"
   ]
  },
  {
   "cell_type": "code",
   "execution_count": 14,
   "metadata": {},
   "outputs": [
    {
     "data": {
      "text/plain": [
       "2.5"
      ]
     },
     "execution_count": 14,
     "metadata": {},
     "output_type": "execute_result"
    }
   ],
   "source": [
    "5/2"
   ]
  },
  {
   "cell_type": "code",
   "execution_count": 15,
   "metadata": {},
   "outputs": [
    {
     "data": {
      "text/plain": [
       "1"
      ]
     },
     "execution_count": 15,
     "metadata": {},
     "output_type": "execute_result"
    }
   ],
   "source": [
    "5%2\n",
    "\n",
    "(\"modulo o reciduo: sirve para organizar expreciones \")\n"
   ]
  },
  {
   "cell_type": "code",
   "execution_count": 20,
   "metadata": {},
   "outputs": [
    {
     "data": {
      "text/plain": [
       "'July Vargas'"
      ]
     },
     "execution_count": 20,
     "metadata": {},
     "output_type": "execute_result"
    }
   ],
   "source": [
    "Nombre= \"July\"\n",
    "apellido= \" Vargas\"\n",
    "Nombre + apellido \n"
   ]
  },
  {
   "cell_type": "code",
   "execution_count": 23,
   "metadata": {},
   "outputs": [
    {
     "data": {
      "text/plain": [
       "'jajajajajajajaja'"
      ]
     },
     "execution_count": 23,
     "metadata": {},
     "output_type": "execute_result"
    }
   ],
   "source": [
    "\"ja\"*8"
   ]
  },
  {
   "cell_type": "code",
   "execution_count": 24,
   "metadata": {},
   "outputs": [
    {
     "name": "stdout",
     "output_type": "stream",
     "text": [
      "314.0\n"
     ]
    }
   ],
   "source": [
    "pi=3.14\n",
    "r=10\n",
    "area= pi*r**2\n",
    "print(area)"
   ]
  },
  {
   "cell_type": "code",
   "execution_count": 25,
   "metadata": {},
   "outputs": [
    {
     "data": {
      "text/plain": [
       "37"
      ]
     },
     "execution_count": 25,
     "metadata": {},
     "output_type": "execute_result"
    }
   ],
   "source": [
    "# Palabras qeu núnca puedo usar como variables\n",
    "edad= 18\n",
    "1+2*(edad)"
   ]
  },
  {
   "cell_type": "markdown",
   "metadata": {},
   "source": [
    "clase 23 agosto"
   ]
  },
  {
   "cell_type": "code",
   "execution_count": 2,
   "metadata": {},
   "outputs": [
    {
     "name": "stdout",
     "output_type": "stream",
     "text": [
      "Es par\n"
     ]
    }
   ],
   "source": [
    "#verifica si un numero es par o impar\n",
    "numero= int(input(\"escribir un numero:\"))\n",
    "if not numero%2:\n",
    "    print(\"Es par\")\n",
    "else: \n",
    "    print(\"Es impar\")\n",
    "\n"
   ]
  },
  {
   "cell_type": "code",
   "execution_count": 6,
   "metadata": {},
   "outputs": [
    {
     "name": "stdout",
     "output_type": "stream",
     "text": [
      "you lost\n"
     ]
    }
   ],
   "source": [
    "import random\n",
    "def play():\n",
    "    user = input ('whats your choise? \"r\" for rock, \"p\" for paper, \"s\" for scissors\\n')\n",
    "    computer =random.choice([\"r\",\"p\",\"s\"])\n",
    "\n",
    "    if user == computer:\n",
    "        return 'It\\'s a tie'\n",
    "    \n",
    "    #r>s, s>p, p>r\n",
    "    if is_win(user, computer):\n",
    "        return 'you won'\n",
    "    return 'you lost'\n",
    "def is_win(player, opponent):\n",
    "\n",
    "        #return True if player wins\n",
    "        #r > s, s > p, p > r\n",
    "     if (player == 'r' and opponent == 's') or (player == 's' and opponent == 'p') \\\n",
    "        or (player == 'p' and opponent == 'r'):\n",
    "        return True\n",
    "print(play())"
   ]
  },
  {
   "cell_type": "code",
   "execution_count": null,
   "metadata": {},
   "outputs": [],
   "source": [
    "\n",
    "{\"cells\":[{\"cell_type\":\"code\",\"execution_count\":2,\"metadata\":{\"colab\":{\"base_uri\":\"https://localhost:8080/\"},\"executionInfo\":{\"elapsed\":782,\"status\":\"ok\",\"timestamp\":1644506517688,\"user\":{\"displayName\":\"Karen Natalia Rojas Ramirez\",\"photoUrl\":\"https://lh3.googleusercontent.com/a-/AOh14Giup8iLGK86y-zLdybx3GiAgyQFlttfYiU-YZySkQ=s64\",\"userId\":\"02047287347983024171\"},\"user_tz\":300},\"id\":\"7dM3gIxiJybx\",\"outputId\":\"cf1ef445-04d5-455b-aabc-e975586a121e\"},\"outputs\":[],\"source\":[\"import math\\n\",\"import random\\n\"]},{\"cell_type\":\"code\",\"execution_count\":5,\"metadata\":{},\"outputs\":[],\"source\":[\"import random\\n\",\"\\n\",\"def play():\\n\",\"    user = input(\\\"What's your choice? 'r' for rock, 'p' for paper, 's' for scissors\\\")\\n\",\"    computer = random.choice (['piedra', 'papel', 'tijeras'])\\n\",\"    \\n\",\"    if user == computer:\\n\",\"        return 'Its a tie'\\n\",\"    \\n\",\"    if is_win(user, computer):\\n\",\"        return 'You won!'\\n\",\"    return 'You lost!'\\n\",\"\\n\",\"def is_win(player, opponent):\\n\",\"    if (player == 'piedra' and opponent == 'tijeras') or (player == 'tijeras' and opponent == 'papel') \\\\\\n\",\"        or (player == 'papel' and opponent == 'tijeras'):\\n\",\"        return True\\n\",\"    \\n\",\"    print(play())\"]}],\"metadata\":{\"colab\":{\"authorship_tag\":\"ABX9TyO/nEHuxhBpOTKRzP65kGoc\",\"name\":\"Estimación Pi por Montecarlo.ipynb\",\"provenance\":[]},\"kernelspec\":{\"display_name\":\"Python 3\",\"name\":\"python3\"},\"language_info\":{\"codemirror_mode\":{\"name\":\"ipython\",\"version\":3},\"file_extension\":\".py\",\"mimetype\":\"text/x-python\",\"name\":\"python\",\"nbconvert_exporter\":\"python\",\"pygments_lexer\":\"ipython3\",\"version\":\"3.12.1\"}},\"nbformat\":4,\"nbformat_minor\":0}"
   ]
  }
 ],
 "metadata": {
  "kernelspec": {
   "display_name": "Python 3",
   "language": "python",
   "name": "python3"
  },
  "language_info": {
   "codemirror_mode": {
    "name": "ipython",
    "version": 3
   },
   "file_extension": ".py",
   "mimetype": "text/x-python",
   "name": "python",
   "nbconvert_exporter": "python",
   "pygments_lexer": "ipython3",
   "version": "3.11.9"
  }
 },
 "nbformat": 4,
 "nbformat_minor": 2
}
